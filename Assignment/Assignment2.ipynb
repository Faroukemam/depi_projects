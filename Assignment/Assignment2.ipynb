{
 "cells": [
  {
   "cell_type": "markdown",
   "metadata": {},
   "source": [
    "# Assignment 2:  Unlocking Statistical Insights with Python\n",
    "\n",
    "In this assignment, you'll dive into the world of statistical analysis using Python.  We'll move beyond theoretical concepts and focus on practical application. You'll learn how to calculate key statistical measures and use them for real-world tasks like outlier detection.\n",
    "\n",
    "This assignment will guide you through:\n",
    "\n",
    "* **Revise the concepts and equations:**  You'll implement code from scratch to compute essential statistics like mean, median, mode, variance, standard deviation, range, and interquartile range (IQR).\n",
    "* **Calculating Basic Statistics:**  You'll implement code from scratch to compute essential statistics like mean, median, mode, variance, standard deviation, range, and interquartile range (IQR).\n",
    "* **Explore some liberaries**: Optionaly use powerful libraries like NumPy and SciPy.\n",
    "\n",
    "\n",
    "#### General Instructions \n",
    "\n",
    "Please adhere to the following guidelines:\n",
    "\n",
    "- **Code Clarity:** Your code should be well-formatted, easy to understand, and include meaningful variable names.\n",
    "- **Docstrings:**  Use docstrings to document your functions and explain their purpose, arguments, and return values.\n",
    "- **Testing:**  Use the same given data example of your code to demonstrate its functionality.\n",
    "- **NOTE:** Answer in the same notebook with the given examples."
   ]
  },
  {
   "cell_type": "markdown",
   "metadata": {
    "vscode": {
     "languageId": "plaintext"
    }
   },
   "source": [
    "\n",
    "### **1.  Text Analyzer**\n",
    "\n",
    "* **Objective:**  Create a program that analyzes text for various characteristics. \n",
    "* **Requirements:**\n",
    "    * Ask the user to input a paragraph of text.\n",
    "    * Use loops to:\n",
    "        * Count the number of words in the text.\n",
    "        * Count the number of sentences in the text.\n",
    "        * Calculate the average word length.\n",
    "        * Find the most frequently used word in the text.\n",
    "        * (Optional) Identify the five most common words. \n",
    "* **Hint:** You'll need to use string manipulation techniques (like splitting the text into words and sentences) along with loop logic to track counts and comparisons.\n",
    "\n",
    ">**You can test the code using this paragraph:** \"Python is a high-level, interpreted programming language. It's dynamically typed, meaning you don't have to explicitly declare the type of a variable. It's widely used for web development, data analysis, machine learning, and automation. Python is known for its readability and ease of use.\"\n"
   ]
  },
  {
   "cell_type": "code",
   "execution_count": 1,
   "metadata": {},
   "outputs": [],
   "source": [
    "from Analizer import TextAnalyzer as TA"
   ]
  },
  {
   "cell_type": "code",
   "execution_count": 2,
   "metadata": {},
   "outputs": [
    {
     "name": "stdout",
     "output_type": "stream",
     "text": [
      "Enter your paragraph below:\n",
      "\n",
      "\n",
      "Text Analysis Result:\n",
      "========================================\n",
      "Total Words         : 44\n",
      "Total Sentences     : 4\n",
      "Average Word Length : 5.32\n",
      "Most Frequent Word  : 'its' (3 times)\n",
      "Top 5 Most Common Words:\n",
      "   • its        - 3 times\n",
      "   • is         - 2 times\n",
      "   • a          - 2 times\n",
      "   • python     - 2 times\n",
      "   • of         - 2 times\n",
      "========================================\n",
      "Original content >>>\n",
      "Python is a high-level, interpreted programming language. It's dynamically typed, meaning you don't have to explicitly declare the type of a variable. It's widely used for web development, data analysis, machine learning, and automation. Python is known for its readability and ease of use.\n"
     ]
    }
   ],
   "source": [
    "print(\"Enter your paragraph below:\\n\")\n",
    "text = input()\n",
    "analyzer = TA(text)\n",
    "analyzer.analyze()"
   ]
  },
  {
   "cell_type": "markdown",
   "metadata": {},
   "source": [
    "---\n",
    "\n",
    "### **Q2- Basic Statistics Calculator**\n",
    "\n",
    "**Objective:** Create a Python program that calculates basic statistics (mean, median, mode, range, variance, and standard deviation) for a set of numbers entered by the user.\n",
    "\n",
    "**Requirements:**\n",
    "Complete each statistical calculation by following the TODO instructions below. It is mandatory to implement all calculations from scratch. Using libraries in combination with your own implementation is considered an added advantage."
   ]
  },
  {
   "cell_type": "code",
   "execution_count": 3,
   "metadata": {},
   "outputs": [],
   "source": [
    "from Analizer import Stats"
   ]
  },
  {
   "cell_type": "code",
   "execution_count": 14,
   "metadata": {},
   "outputs": [
    {
     "name": "stdout",
     "output_type": "stream",
     "text": [
      "[-5, 0, 17, 18, 18, 19, 19, 19, 20, 20, 20, 20, 20, 21, 21, 21, 21, 22, 22, 22, 22, 23, 23, 23, 23, 24, 24, 24, 25, 25, 26, 50, 55]\n"
     ]
    }
   ],
   "source": [
    "# Initialize an empty list to store numbers\n",
    "temperatures = [23, 25, 20, 23, -5, 21, 18, 19, 24, 21,19, 24, 0, \n",
    "                20, 24, 55, 22, 50, 22, 20, 21, 22, 20, 25, 19, \n",
    "                22, 26, 23, 21, 23, 17, 20, 18]\n",
    "TempSample = Stats(temperatures)\n",
    "print(TempSample.get_DataSort())"
   ]
  },
  {
   "cell_type": "code",
   "execution_count": 18,
   "metadata": {},
   "outputs": [
    {
     "name": "stdout",
     "output_type": "stream",
     "text": [
      "the mean of the Temprture sample is >>> 21.88\n"
     ]
    }
   ],
   "source": [
    "# --- Mean Calculation ---\n",
    "# TODO: Calculate the mean of the numbers in the 'temperatures' list.\n",
    "#       Handle the case where the list is empty (return None or print a message).\n",
    "#       Print the mean using an f-string.\n",
    "# Your code here:\n",
    "print(f\"the mean of the Temprture sample is >>> {TempSample.get_mean():.2f}\")"
   ]
  },
  {
   "cell_type": "code",
   "execution_count": 19,
   "metadata": {},
   "outputs": [
    {
     "name": "stdout",
     "output_type": "stream",
     "text": [
      "the Median of the Temprture sample is >>> 21\n"
     ]
    }
   ],
   "source": [
    "# --- Median Calculation ---\n",
    "# TODO: Calculate the median of the numbers in the 'temperatures' list.\n",
    "#       Sort the 'numbers' list first.\n",
    "#       Handle both even and odd length lists.\n",
    "#       Print the median using an f-string.\n",
    "# Your code here:\n",
    "print(f\"the Median of the Temprture sample is >>> {TempSample.get_median()}\")"
   ]
  },
  {
   "cell_type": "code",
   "execution_count": 20,
   "metadata": {},
   "outputs": [
    {
     "name": "stdout",
     "output_type": "stream",
     "text": [
      "the mode of the Temprture sample is >>> [20]\n"
     ]
    }
   ],
   "source": [
    "# --- Mode Calculation ---\n",
    "# TODO: Calculate the mode (most frequent number) in the 'temperatures' list.\n",
    "#       If there are multiple modes, you can return any one of them.\n",
    "#       If there is no mode (all numbers appear once), you can return None or print a message.\n",
    "#       Print the mode using an f-string.\n",
    "# Your code here:\n",
    "print(f\"the mode of the Temprture sample is >>> {TempSample.get_mode()}\")"
   ]
  },
  {
   "cell_type": "code",
   "execution_count": 22,
   "metadata": {},
   "outputs": [
    {
     "name": "stdout",
     "output_type": "stream",
     "text": [
      "the Variance of the Temprture sample is >>> 98.29\n"
     ]
    }
   ],
   "source": [
    "# --- Variance Calculation ---\n",
    "# TODO: Calculate the variance of the numbers in the 'temperatures' list.\n",
    "#       Use the formula for sample variance (divide by n-1 for sample, n for population).\n",
    "#       For this exercise, assume it's sample variance if list has more than 1 element, else return 0 if list has 0 or 1 element.\n",
    "#       Print the variance using an f-string.\n",
    "# Your code here:\n",
    "print(f\"the Variance of the Temprture sample is >>> {TempSample.get_variance():.2f}\")"
   ]
  },
  {
   "cell_type": "code",
   "execution_count": 23,
   "metadata": {},
   "outputs": [
    {
     "name": "stdout",
     "output_type": "stream",
     "text": [
      "the Standard Deviation of the Temprture sample is >>> 9.91\n"
     ]
    }
   ],
   "source": [
    "# --- Standard Deviation Calculation ---\n",
    "# TODO: Calculate the standard deviation of the numbers in the 'temperatures' list.\n",
    "#       Take the square root of the variance calculated above.\n",
    "#       Print the standard deviation using an f-string.\n",
    "# Your code here:\n",
    "print(f\"the Standard Deviation of the Temprture sample is >>> {TempSample.get_std_dev():.2f}\")"
   ]
  },
  {
   "cell_type": "code",
   "execution_count": 24,
   "metadata": {},
   "outputs": [
    {
     "name": "stdout",
     "output_type": "stream",
     "text": [
      "the Range of the Temprture sample is >>> 60\n"
     ]
    }
   ],
   "source": [
    "# --- Range Calculation ---\n",
    "# TODO: Calculate the range (difference between max and min) of the 'temperatures' list.\n",
    "#       Print the range using an f-string.\n",
    "# Your code here:\n",
    "print(f\"the Range of the Temprture sample is >>> {TempSample.get_range()}\")"
   ]
  },
  {
   "cell_type": "code",
   "execution_count": 25,
   "metadata": {},
   "outputs": [
    {
     "name": "stdout",
     "output_type": "stream",
     "text": [
      "the IQR of the Temprture sample is >>> 4.0\n"
     ]
    }
   ],
   "source": [
    "# --- IQR Calculation ---\n",
    "# TODO: Calculate the Interquartile Range (IQR) of the 'temperatures' list.\n",
    "#       Use the percentile function you defined in Q1 or define a new one if needed.\n",
    "#       Calculate Q1 (25th percentile) and Q3 (75th percentile).\n",
    "#       IQR = Q3 - Q1\n",
    "#       Print the IQR using an f-string.\n",
    "# Your code here:\n",
    "print(f\"the IQR of the Temprture sample is >>> {TempSample.get_iqr()}\")"
   ]
  },
  {
   "cell_type": "code",
   "execution_count": 27,
   "metadata": {},
   "outputs": [
    {
     "name": "stdout",
     "output_type": "stream",
     "text": [
      "the IQR of the Temprture sample is >>> 0.8864658781156218  : Positive Skewness\n"
     ]
    }
   ],
   "source": [
    "# --- Skewness Calculation ---\n",
    "# TODO: Calculate the skewness of the 'temperatures' list.\n",
    "#       You can use a simple method for skewness calculation.\n",
    "#       Print the skewness using an f-string.\n",
    "# Your code here:\n",
    "print(f\"the Skewness of the Temprture sample is >>> {TempSample.get_skewness()}  : {'Positive Skewness' if TempSample.get_skewness()>0 else 'Nigative Skewness'}\")"
   ]
  },
  {
   "cell_type": "code",
   "execution_count": 28,
   "metadata": {},
   "outputs": [
    {
     "name": "stdout",
     "output_type": "stream",
     "text": [
      "the Kurtosis of the Temprture sample is >>> 5.0983225933544105\n"
     ]
    }
   ],
   "source": [
    "# --- Kurtosis Calculation ---\n",
    "# TODO: Calculate the Kurtosis of the 'temperatures' list.\n",
    "#       You can use a simple method for Kurtosis calculation.\n",
    "#       Print the Kurtosis using an f-string.\n",
    "# Your code here:\n",
    "print(f\"the Kurtosis of the Temprture sample is >>> {TempSample.get_kurtosis()}\")"
   ]
  },
  {
   "cell_type": "code",
   "execution_count": 29,
   "metadata": {},
   "outputs": [
    {
     "name": "stdout",
     "output_type": "stream",
     "text": [
      "\n",
      "📊 Full Statistics Summary:\n",
      "----------------------------------------\n",
      "Count      : 33\n",
      "Min        : -5\n",
      "Max        : 55\n",
      "Range      : 60\n",
      "Mean       : 21.88\n",
      "Median     : 21\n",
      "Mode       : [20]\n",
      "Variance   : 98.29\n",
      "Std. Dev   : 9.91\n",
      "IQR        : 4.00\n",
      "Skewness   : 0.8865 Positive Skewness\n",
      "Kurtosis   : 5.0983\n",
      "----------------------------------------\n"
     ]
    }
   ],
   "source": [
    "TempSample.summary()"
   ]
  }
 ],
 "metadata": {
  "kernelspec": {
   "display_name": "mlops-app",
   "language": "python",
   "name": "python3"
  },
  "language_info": {
   "codemirror_mode": {
    "name": "ipython",
    "version": 3
   },
   "file_extension": ".py",
   "mimetype": "text/x-python",
   "name": "python",
   "nbconvert_exporter": "python",
   "pygments_lexer": "ipython3",
   "version": "3.10.12"
  }
 },
 "nbformat": 4,
 "nbformat_minor": 2
}
