{
 "cells": [
  {
   "cell_type": "markdown",
   "metadata": {
    "id": "ep6HU8dlzIGk"
   },
   "source": [
    "# Assignment 1 - Python Basics Practice\n",
    "\n",
    "In this assignment, you'll get to practice some of the concepts and skills covered in the following notebooks:\n",
    "\n",
    "1. First Steps with Python and Jupyter\n",
    "2. A Quick Tour of Variables and Data Types\n",
    "3. Branching using Conditional Statements\n",
    "\n",
    "As you go through this notebook, you will find a **???** in certain places. To complete this assignment, you must replace all the **???** with appropriate values, expressions or statements to ensure that the notebook runs properly end-to-end.\n",
    "\n"
   ]
  },
  {
   "cell_type": "markdown",
   "metadata": {
    "id": "lpjUmc5UzIGu"
   },
   "source": [
    "## Problem 1 - Variables and Data Types\n",
    "\n",
    "**Q: Assign your name to the variable `name`.**"
   ]
  },
  {
   "cell_type": "code",
   "execution_count": 3,
   "metadata": {
    "id": "0hZVvSfUzIGv",
    "trusted": true
   },
   "outputs": [],
   "source": [
    "name = \"Farouk Waked\""
   ]
  },
  {
   "cell_type": "markdown",
   "metadata": {
    "id": "fuTCxPzZzIGw"
   },
   "source": [
    "**Q: Assign your age (real or fake) to the variable `age`.**"
   ]
  },
  {
   "cell_type": "code",
   "execution_count": 4,
   "metadata": {
    "collapsed": true,
    "id": "GHtjR4iBzIGx",
    "trusted": true
   },
   "outputs": [],
   "source": [
    "age = 25"
   ]
  },
  {
   "cell_type": "markdown",
   "metadata": {
    "id": "9DsWh9GWzIGy"
   },
   "source": [
    "**Q: Assign a boolean value to the variable `has_android_phone`.**"
   ]
  },
  {
   "cell_type": "code",
   "execution_count": 24,
   "metadata": {
    "id": "xJ4S2o1fzIGy",
    "trusted": true
   },
   "outputs": [],
   "source": [
    "has_android_phone = True"
   ]
  },
  {
   "cell_type": "markdown",
   "metadata": {
    "id": "PnBl8zZazIGz"
   },
   "source": [
    "You can check the values of these variables by running the next cell."
   ]
  },
  {
   "cell_type": "code",
   "execution_count": 6,
   "metadata": {
    "id": "D4cP0zIVzIGz",
    "trusted": true
   },
   "outputs": [
    {
     "data": {
      "text/plain": [
       "('Farouk Waked', 25, True)"
      ]
     },
     "execution_count": 6,
     "metadata": {},
     "output_type": "execute_result"
    }
   ],
   "source": [
    "name, age, has_android_phone"
   ]
  },
  {
   "cell_type": "markdown",
   "metadata": {
    "id": "Km4H2IDAzIG0"
   },
   "source": [
    "**Q: Create a dictionary `person` with keys `\"Name\"`, `\"Age\"`, `\"HasAndroidPhone\"` and values using the variables defined above.**"
   ]
  },
  {
   "cell_type": "code",
   "execution_count": 25,
   "metadata": {
    "id": "zDSfduyczIG0",
    "trusted": true
   },
   "outputs": [],
   "source": [
    "person = {\"Name\": name,\"Age\": age,\"HasAndroidPhone\": has_android_phone}\n"
   ]
  },
  {
   "cell_type": "markdown",
   "metadata": {
    "id": "4CT3vukozIG1"
   },
   "source": [
    "Let's use the `person` dictionary to print a nice message."
   ]
  },
  {
   "cell_type": "code",
   "execution_count": 27,
   "metadata": {
    "id": "RvFVY4LGzIG1",
    "trusted": true
   },
   "outputs": [
    {
     "name": "stdout",
     "output_type": "stream",
     "text": [
      "Hello my name is Farouk Waked i am 25 yes i have an android\n"
     ]
    }
   ],
   "source": [
    "print(f\"Hello my name is {person['Name']} i am {person['Age']} {'yes i have an android'if person['HasAndroidPhone'] else 'no i dont have one'}\")"
   ]
  },
  {
   "cell_type": "markdown",
   "metadata": {
    "id": "dRWVEOgZzIG1"
   },
   "source": [
    "**Q (Optional): Use a `for` loop to display the `type` of each value stored against each key in `person`.**\n",
    "\n",
    "Here's the expected output for the key `\"Name\"`:\n",
    "\n",
    "```\n",
    "The key \"Name\" has the value \"Derek\" of the type \"<class 'str'>\"\n",
    "```"
   ]
  },
  {
   "cell_type": "code",
   "execution_count": null,
   "metadata": {
    "id": "AN-zixgFzIG2",
    "trusted": true
   },
   "outputs": [],
   "source": [
    "# this is optional\n"
   ]
  },
  {
   "cell_type": "markdown",
   "metadata": {
    "id": "fucfLcVhzIG2"
   },
   "source": [
    "## Problem 2 - Working with Lists\n",
    "\n",
    "**Q: Create a list containing the following 3 elements:**\n",
    "\n",
    "* your favorite color\n",
    "* the number of pets you have\n",
    "* a boolean value describing whether you have previous programming experience\n"
   ]
  },
  {
   "cell_type": "code",
   "execution_count": 38,
   "metadata": {
    "id": "CT3nXqKdzIG3",
    "trusted": true
   },
   "outputs": [],
   "source": [
    "MyInfo = ['blue', 0, True]\n"
   ]
  },
  {
   "cell_type": "markdown",
   "metadata": {
    "id": "_EhSdP2zzIG3"
   },
   "source": [
    "Let's see what the list looks like:"
   ]
  },
  {
   "cell_type": "code",
   "execution_count": 39,
   "metadata": {
    "id": "-5r7WddMzIG3",
    "trusted": true
   },
   "outputs": [
    {
     "name": "stdout",
     "output_type": "stream",
     "text": [
      "['blue', 0, True]\n"
     ]
    }
   ],
   "source": [
    "print(MyInfo)"
   ]
  },
  {
   "cell_type": "markdown",
   "metadata": {
    "id": "xftiO_ctzIG3"
   },
   "source": [
    "**Q: Complete the following `print` and `if` statements by accessing the appropriate elements from `my_list`.**\n",
    "\n",
    "*Hint*: Use the list indexing notation `[]`."
   ]
  },
  {
   "cell_type": "code",
   "execution_count": 40,
   "metadata": {
    "id": "BgG8HSLOzIG4",
    "trusted": true
   },
   "outputs": [
    {
     "name": "stdout",
     "output_type": "stream",
     "text": [
      "My favorite color is blue\n"
     ]
    }
   ],
   "source": [
    "print('My favorite color is', MyInfo[0])"
   ]
  },
  {
   "cell_type": "code",
   "execution_count": 41,
   "metadata": {
    "id": "mSejRSJwzIG4",
    "trusted": true
   },
   "outputs": [
    {
     "name": "stdout",
     "output_type": "stream",
     "text": [
      "I have  0 of pets\n"
     ]
    }
   ],
   "source": [
    "print(f'I have  {MyInfo[1]} of pets')"
   ]
  },
  {
   "cell_type": "code",
   "execution_count": 42,
   "metadata": {
    "id": "XbNZO87EzIG4",
    "trusted": true
   },
   "outputs": [
    {
     "name": "stdout",
     "output_type": "stream",
     "text": [
      "I have programming experience.\n"
     ]
    }
   ],
   "source": [
    "# use if else to check if you have a programming experience or not\n",
    "print('I have no programming experience.'if not MyInfo[2] else 'I have programming experience.')"
   ]
  },
  {
   "cell_type": "markdown",
   "metadata": {
    "id": "U1aNEFfqzIG5"
   },
   "source": [
    "**Q: Add your favorite single digit number to the end of the list using the appropriate list method.**"
   ]
  },
  {
   "cell_type": "code",
   "execution_count": 43,
   "metadata": {
    "id": "6N-YBHZSzIG5",
    "trusted": true
   },
   "outputs": [],
   "source": [
    "MyInfo.append(7)\n"
   ]
  },
  {
   "cell_type": "markdown",
   "metadata": {
    "id": "8XqvGa_BzIG6"
   },
   "source": [
    "Let's see if the number shows up in the list."
   ]
  },
  {
   "cell_type": "code",
   "execution_count": 44,
   "metadata": {
    "id": "wzRE1vYfzIG6",
    "trusted": true
   },
   "outputs": [
    {
     "name": "stdout",
     "output_type": "stream",
     "text": [
      "['blue', 0, True, 7]\n"
     ]
    }
   ],
   "source": [
    "print(MyInfo)"
   ]
  },
  {
   "cell_type": "markdown",
   "metadata": {
    "id": "FBZkgEcNzIG6"
   },
   "source": [
    "**Q: Remove the first element of the list, using the appropriate list method.**\n",
    "\n",
    "*Hint*: Check out methods of list here: https://www.w3schools.com/python/python_ref_list.asp"
   ]
  },
  {
   "cell_type": "code",
   "execution_count": 45,
   "metadata": {
    "id": "PmD6oW4vzIG7",
    "trusted": true
   },
   "outputs": [
    {
     "data": {
      "text/plain": [
       "'blue'"
      ]
     },
     "execution_count": 45,
     "metadata": {},
     "output_type": "execute_result"
    }
   ],
   "source": [
    "MyInfo.pop(0)"
   ]
  },
  {
   "cell_type": "code",
   "execution_count": 46,
   "metadata": {
    "id": "NeSHD2i2zIG7",
    "trusted": true
   },
   "outputs": [
    {
     "name": "stdout",
     "output_type": "stream",
     "text": [
      "[0, True, 7]\n"
     ]
    }
   ],
   "source": [
    "print(MyInfo)"
   ]
  },
  {
   "cell_type": "markdown",
   "metadata": {
    "id": "oOIyqmGgzIG8"
   },
   "source": [
    "**Q: Complete the `print` statement below to display the number of elements in `my_list`.**"
   ]
  },
  {
   "cell_type": "code",
   "execution_count": 56,
   "metadata": {
    "id": "vT3qR0bZzIG8",
    "trusted": true
   },
   "outputs": [
    {
     "name": "stdout",
     "output_type": "stream",
     "text": [
      "Number of elements in my_list: 3\n"
     ]
    }
   ],
   "source": [
    "# i dont found it                                                                           farouk\n",
    "print(\"Number of elements in my_list:\", len(MyInfo))\n"
   ]
  },
  {
   "cell_type": "markdown",
   "metadata": {
    "id": "0VviWrMGzIHF"
   },
   "source": [
    "## Problem 3 - Conditions and loops\n",
    "\n",
    "**Q: Calculate and display the sum of all the numbers divisible by 7 between 18 and 534 i.e. `21+28+35+...+525+532`**.\n",
    "\n",
    "*Hint*: One way to do this is to loop over a `range` using `for` and use an `if` statement inside it."
   ]
  },
  {
   "cell_type": "code",
   "execution_count": 47,
   "metadata": {
    "id": "yoSd-n1ZzIHG",
    "trusted": true
   },
   "outputs": [
    {
     "name": "stdout",
     "output_type": "stream",
     "text": [
      "Sum: 20461\n"
     ]
    }
   ],
   "source": [
    "# store the final answer in this variable\n",
    "sum_of_numbers = 0\n",
    "\n",
    "# perform the calculation here\n",
    "\n",
    "\n",
    "for number in range(18, 535):\n",
    "    if not number % 7 :\n",
    "        sum_of_numbers += number\n",
    "\n",
    "print(\"Sum:\", sum_of_numbers)\n"
   ]
  },
  {
   "cell_type": "code",
   "execution_count": 48,
   "metadata": {
    "id": "aKegz1CezIHG",
    "trusted": true
   },
   "outputs": [
    {
     "name": "stdout",
     "output_type": "stream",
     "text": [
      "The sum of all the numbers divisible by 7 between 18 and 534 is 20461\n"
     ]
    }
   ],
   "source": [
    "print('The sum of all the numbers divisible by 7 between 18 and 534 is', sum_of_numbers)"
   ]
  },
  {
   "cell_type": "markdown",
   "metadata": {
    "id": "R_ch7CO9zIHK"
   },
   "source": [
    "## Problem 4 - Flying to the Bahamas\n",
    "\n",
    "**Q: A travel company wants to fly a plane to the Bahamas. Flying the plane costs 5000 dollars. So far, 29 people have signed up for the trip. If the company charges 200 dollars per ticket, what is the profit made by the company?**\n",
    "\n",
    "Fill in values or arithmetic expressions for the variables below."
   ]
  },
  {
   "cell_type": "code",
   "execution_count": 49,
   "metadata": {
    "id": "qrbiUfr7zIHK",
    "trusted": true
   },
   "outputs": [],
   "source": [
    "cost_of_flying_plane = 5000"
   ]
  },
  {
   "cell_type": "code",
   "execution_count": 50,
   "metadata": {
    "id": "aCdLh-0pzIHL",
    "trusted": true
   },
   "outputs": [],
   "source": [
    "number_of_passengers = 29"
   ]
  },
  {
   "cell_type": "code",
   "execution_count": 51,
   "metadata": {
    "id": "_pZYiawizIHM",
    "trusted": true
   },
   "outputs": [],
   "source": [
    "price_of_ticket = 200"
   ]
  },
  {
   "cell_type": "code",
   "execution_count": 54,
   "metadata": {
    "id": "bq31J0NfzIHM",
    "trusted": true
   },
   "outputs": [
    {
     "name": "stdout",
     "output_type": "stream",
     "text": [
      "$ 5800\n"
     ]
    }
   ],
   "source": [
    "revenue = number_of_passengers*price_of_ticket\n",
    "print(\"$\",revenue)"
   ]
  },
  {
   "cell_type": "code",
   "execution_count": 55,
   "metadata": {
    "id": "pcF4HG-RzIHM",
    "trusted": true
   },
   "outputs": [
    {
     "name": "stdout",
     "output_type": "stream",
     "text": [
      "The company makes of a profit of 800 dollars\n"
     ]
    }
   ],
   "source": [
    "profit = revenue-cost_of_flying_plane\n",
    "print('The company makes of a profit of {} dollars'.format(profit))"
   ]
  },
  {
   "cell_type": "markdown",
   "metadata": {
    "id": "4GVMcd0tzIHN"
   },
   "source": [
    "**Q : Out of the 29 people who took the flight, only 12 buy tickets to return from the Bahamas on the same plane. If the flying the plane back also costs 5000 dollars, and does the company make an overall profit or loss? The company charges the same fee of 200 dollars per ticket for the return flight.**\n",
    "\n",
    "Use an `if` statement to display the result."
   ]
  },
  {
   "cell_type": "code",
   "execution_count": null,
   "metadata": {
    "id": "eJgKVIrVzIHN",
    "trusted": true
   },
   "outputs": [],
   "source": [
    "# this is optional\n",
    "return_passengers =\n",
    "return_profit =\n",
    "print(return_profit)"
   ]
  },
  {
   "cell_type": "code",
   "execution_count": null,
   "metadata": {
    "id": "rpOjC8WkzIHN",
    "trusted": true
   },
   "outputs": [],
   "source": [
    "# this is optional\n",
    "if return_profit > 0:\n",
    "    print(\"The company makes an overall profit of {} dollars\".format(return_profit))\n",
    "else:\n",
    "    print(\"The company makes an overall loss of {} dollars\".format(abs(return_profit)))"
   ]
  }
 ],
 "metadata": {
  "colab": {
   "name": "Python Basics Practice Assignment 1",
   "provenance": []
  },
  "kernelspec": {
   "display_name": "mlops-app",
   "language": "python",
   "name": "python3"
  },
  "language_info": {
   "codemirror_mode": {
    "name": "ipython",
    "version": 3
   },
   "file_extension": ".py",
   "mimetype": "text/x-python",
   "name": "python",
   "nbconvert_exporter": "python",
   "pygments_lexer": "ipython3",
   "version": "3.10.12"
  }
 },
 "nbformat": 4,
 "nbformat_minor": 0
}
